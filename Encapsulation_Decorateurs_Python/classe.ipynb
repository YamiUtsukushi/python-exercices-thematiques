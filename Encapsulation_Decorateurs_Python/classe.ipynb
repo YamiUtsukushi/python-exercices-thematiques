{
 "cells": [
  {
   "cell_type": "code",
   "execution_count": null,
   "id": "b65c508d",
   "metadata": {},
   "outputs": [
    {
     "name": "stdout",
     "output_type": "stream",
     "text": [
      "Marque : Renault\n",
      "Vitesse : 120\n",
      "Kilométrage : 45000\n",
      "Accès via getter : 45000\n"
     ]
    }
   ],
   "source": [
    "# Exercice 1 – Classe Voiture\n",
    "class Voiture:\n",
    "    def __init__(self, marque, vitesse, kilometrage):\n",
    "        self.marque = marque             # public\n",
    "        self._vitesse = vitesse          # protégé\n",
    "        self.__kilometrage = kilometrage # privé\n",
    "\n",
    "    def afficher_infos(self):\n",
    "        print(\"Marque :\", self.marque)\n",
    "        print(\"Vitesse :\", self._vitesse)\n",
    "        print(\"Kilométrage :\", self.__kilometrage)\n",
    "\n",
    "    @property\n",
    "    def kilometrage(self):\n",
    "        return self.__kilometrage\n",
    "    \n",
    "voiture = Voiture(\"Renault\", 120, 45000)\n",
    "\n",
    "voiture.afficher_infos()\n",
    "print(\"Accès via getter :\", voiture.kilometrage)\n"
   ]
  },
  {
   "cell_type": "code",
   "execution_count": null,
   "id": "f736df4f",
   "metadata": {},
   "outputs": [
    {
     "name": "stdout",
     "output_type": "stream",
     "text": [
      "Accès direct via @property : 100\n",
      "Solde actuel : 100\n",
      "Solde actuel : 150\n",
      "Solde actuel : 80\n",
      "Fonds insuffisants.\n",
      "80\n",
      "300\n",
      "Erreur : le solde ne peut pas être négatif.\n",
      "300\n"
     ]
    }
   ],
   "source": [
    "# Exercice 2 – Compte Bancaire Sécurisé\n",
    "class Compte:\n",
    "    def __init__(self, solde_initial):\n",
    "        self.__solde = solde_initial  # privé\n",
    "\n",
    "    def deposer(self, montant):\n",
    "        self.__solde += montant\n",
    "\n",
    "    def retirer(self, montant):\n",
    "        if self.__solde >= montant:\n",
    "            self.__solde -= montant\n",
    "        else:\n",
    "            print(\"Fonds insuffisants.\")\n",
    "\n",
    "    def afficher_solde(self):\n",
    "        print(\"Solde actuel :\", self.__solde)\n",
    "    \n",
    "    @property\n",
    "    def solde(self):\n",
    "        return self.__solde\n",
    "    \n",
    "    @solde.setter\n",
    "    def solde(self, valeur):\n",
    "        if valeur >= 0:\n",
    "            self.__solde = valeur\n",
    "        else:\n",
    "            print(\"Erreur : le solde ne peut pas être négatif.\")\n",
    "\n",
    "\n",
    "compte = Compte(100)\n",
    "print(\"Accès direct via @property :\", compte.solde)  # → 100\n",
    "compte.afficher_solde()  # Solde actuel : 100\n",
    "compte.deposer(50)\n",
    "compte.afficher_solde()  # Solde actuel : 150\n",
    "compte.retirer(70)\n",
    "compte.afficher_solde()  # Solde actuel : 80\n",
    "compte.retirer(100)      # Fonds insuffisants.\n",
    "\n",
    "\n",
    "print(compte.solde)  # 80\n",
    "\n",
    "compte.solde = 300\n",
    "print(compte.solde)  # 300\n",
    "\n",
    "compte.solde = -50   # Affiche : Erreur : le solde ne peut pas être négatif.\n",
    "print(compte.solde)  # Toujours 300"
   ]
  },
  {
   "cell_type": "code",
   "execution_count": 12,
   "id": "777e4870",
   "metadata": {},
   "outputs": [
    {
     "name": "stdout",
     "output_type": "stream",
     "text": [
      "Accès refusé\n",
      "Mot de passe incorrect.\n",
      "Connexion réussie.\n",
      "Bienvenue dans votre profil !\n"
     ]
    }
   ],
   "source": [
    "# Exercice 3 – Utilisateur et authentification\n",
    "\n",
    "def authentifie(fonction):\n",
    "    def wrapper(self, *args, **kwargs):\n",
    "        if self.user_connecte == True:\n",
    "            return fonction(self, *args, **kwargs)\n",
    "        else:\n",
    "            print(\"Accès refusé\")\n",
    "    return wrapper\n",
    "\n",
    "class Utilisateur:\n",
    "    def __init__(self, mot_de_passe):\n",
    "        self.__mot_de_passe = mot_de_passe\n",
    "        self.user_connecte = False  # déconnecté par défaut\n",
    "\n",
    "    @authentifie\n",
    "    def afficher_profil(self):\n",
    "        print(\"Bienvenue dans votre profil !\")\n",
    "\n",
    "    def connecter(self, mdp):\n",
    "        if mdp == self.__mot_de_passe:\n",
    "            self.user_connecte = True\n",
    "            print(\"Connexion réussie.\")\n",
    "        else:\n",
    "            print(\"Mot de passe incorrect.\")\n",
    "\n",
    "u = Utilisateur(\"1234\")\n",
    "u.afficher_profil()          # Accès refusé\n",
    "u.connecter(\"azerty\")        # Mot de passe incorrect\n",
    "u.connecter(\"1234\")          # Connexion réussie\n",
    "u.afficher_profil()          # Bienvenue dans votre profil !\n",
    "\n"
   ]
  },
  {
   "cell_type": "code",
   "execution_count": 13,
   "id": "d4b205d8",
   "metadata": {},
   "outputs": [
    {
     "name": "stdout",
     "output_type": "stream",
     "text": [
      "Fonction appelée : addition\n",
      "Arguments : (<__main__.Calculatrice object at 0x000001CBE4F29BE0>, 5, 3) {}\n",
      "Valeur retournée : 8\n"
     ]
    }
   ],
   "source": [
    "# Exercice 4 – Logger personnalisé\n",
    "\n",
    "def logger(fonction):\n",
    "    def wrapper(*args, **kwargs):\n",
    "        print(\"Fonction appelée :\", fonction.__name__)\n",
    "        print(\"Arguments :\", args, kwargs)\n",
    "        resultat = fonction(*args, **kwargs)\n",
    "        print(\"Valeur retournée :\", resultat)\n",
    "        return resultat\n",
    "    return wrapper\n",
    "\n",
    "class Calculatrice:\n",
    "    @logger\n",
    "    def addition(self, a, b):\n",
    "        return a + b\n",
    "\n",
    "calc = Calculatrice()\n",
    "resultat = calc.addition(5, 3)\n",
    "\n"
   ]
  },
  {
   "cell_type": "code",
   "execution_count": 14,
   "id": "96755322",
   "metadata": {},
   "outputs": [
    {
     "name": "stdout",
     "output_type": "stream",
     "text": [
      "50\n",
      "100\n",
      "Le prix doit être supérieur à 0.\n",
      "100\n"
     ]
    }
   ],
   "source": [
    "# Exercice 5 – Propriété avec @property et @setter\n",
    "\n",
    "class Produit:\n",
    "    def __init__(self, prix):\n",
    "        self.__prix = prix\n",
    "\n",
    "    @property\n",
    "    def prix(self):\n",
    "        return self.__prix\n",
    "\n",
    "    @prix.setter\n",
    "    def prix(self, valeur):\n",
    "        if valeur > 0:\n",
    "            self.__prix = valeur\n",
    "        else:\n",
    "            print(\"Le prix doit être supérieur à 0.\")\n",
    "\n",
    "p = Produit(50)\n",
    "print(p.prix)       # 50\n",
    "\n",
    "p.prix = 100\n",
    "print(p.prix)       # 100\n",
    "\n",
    "p.prix = -20        # Le prix doit être supérieur à 0.\n",
    "print(p.prix)       # 100 (ça n'a pas changé)\n"
   ]
  },
  {
   "cell_type": "code",
   "execution_count": 16,
   "id": "1a75d83f",
   "metadata": {},
   "outputs": [
    {
     "name": "stdout",
     "output_type": "stream",
     "text": [
      "Bonjour !\n",
      "Bonjour !\n",
      "Bonjour !\n"
     ]
    }
   ],
   "source": [
    "# Exercice 6 – Décorateur avec argument\n",
    "\n",
    "def repeter(n):\n",
    "    def decorateur(fonction):\n",
    "        def wrapper(*args, **kwargs):\n",
    "            for i in range(n):\n",
    "                fonction(*args, **kwargs)\n",
    "        return wrapper\n",
    "    return decorateur\n",
    "\n",
    "@repeter(3)\n",
    "def saluer():\n",
    "    print(\"Bonjour !\")\n",
    "\n",
    "saluer()\n"
   ]
  }
 ],
 "metadata": {
  "kernelspec": {
   "display_name": "Python 3",
   "language": "python",
   "name": "python3"
  },
  "language_info": {
   "codemirror_mode": {
    "name": "ipython",
    "version": 3
   },
   "file_extension": ".py",
   "mimetype": "text/x-python",
   "name": "python",
   "nbconvert_exporter": "python",
   "pygments_lexer": "ipython3",
   "version": "3.13.2"
  }
 },
 "nbformat": 4,
 "nbformat_minor": 5
}
