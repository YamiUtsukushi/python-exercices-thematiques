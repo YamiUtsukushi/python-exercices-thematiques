{
 "cells": [
  {
   "cell_type": "code",
   "execution_count": 1,
   "id": "85e04fb2",
   "metadata": {},
   "outputs": [
    {
     "name": "stdout",
     "output_type": "stream",
     "text": [
      "[12, 20]\n"
     ]
    }
   ],
   "source": [
    "\"\"\"\n",
    "🔹 Exercice 1 : Manipuler une liste de nombres\n",
    "\"\"\"\n",
    "def filtrer_et_trier(liste):\n",
    "\n",
    "    filtrés = [n for n in liste if n > 10]\n",
    "    filtrés.sort()\n",
    "    return filtrés\n",
    "\n",
    "résultat = filtrer_et_trier([5, 12, 8, 20, 3])\n",
    "print(résultat)  \n"
   ]
  },
  {
   "cell_type": "code",
   "execution_count": 2,
   "id": "af033534",
   "metadata": {},
   "outputs": [
    {
     "name": "stdout",
     "output_type": "stream",
     "text": [
      "['Soso', 'Hamidou', 'Ramdhan']\n"
     ]
    }
   ],
   "source": [
    "\"\"\"\n",
    "🔹 Exercice 2 : Manipuler une liste de nombres\n",
    "\"\"\"\n",
    "def filtrer_majeurs(liste):\n",
    "    prenoms = [personne[0] for personne in liste if personne[1] > 18]\n",
    "    return prenoms\n",
    "\n",
    "personnes = [(\"Soso\", 25), (\"Hamidou\", 24), (\"Ramdhan\", 24),(\"Jahden\", 16), ]\n",
    "\n",
    "print(filtrer_majeurs(personnes))\n"
   ]
  },
  {
   "cell_type": "code",
   "execution_count": 3,
   "id": "b9a0665a",
   "metadata": {},
   "outputs": [
    {
     "name": "stdout",
     "output_type": "stream",
     "text": [
      "{'b': 1, 'o': 3, 'n': 2, 'j': 1, 'u': 1, 'r': 1, 'l': 1, 'e': 2, 'm': 1, 'd': 1}\n"
     ]
    }
   ],
   "source": [
    "\"\"\"\n",
    "🔹 Exercice 3 : Compter avec un dictionnaire\n",
    "\"\"\"\n",
    "def compter_lettres(texte):\n",
    "    compteur = {}\n",
    "\n",
    "    for lettre in texte.lower():\n",
    "        if lettre.isalpha(): \n",
    "            if lettre in compteur:\n",
    "                compteur[lettre] += 1\n",
    "            else:\n",
    "                compteur[lettre] = 1\n",
    "\n",
    "    return compteur\n",
    "\n",
    "résultat = compter_lettres(\"Bonjour le monde\")\n",
    "print(résultat)\n"
   ]
  },
  {
   "cell_type": "code",
   "execution_count": 4,
   "id": "8c2a669f",
   "metadata": {},
   "outputs": [
    {
     "name": "stdout",
     "output_type": "stream",
     "text": [
      "['Amel', 'Julie', 'Sara']\n"
     ]
    }
   ],
   "source": [
    "\"\"\"\n",
    "🔹 Exercice 4 : Éliminer les doublons avec un set\n",
    "\"\"\"\n",
    "\n",
    "def supprimer_doublons(liste):\n",
    "    unique = set(liste)\n",
    "    noms_triés = sorted(unique)\n",
    "    return noms_triés\n",
    "\n",
    "noms = [\"Sara\", \"Julie\", \"Sara\", \"Amel\"]\n",
    "print(supprimer_doublons(noms))\n",
    "\n"
   ]
  },
  {
   "cell_type": "code",
   "execution_count": 5,
   "id": "99243fc1",
   "metadata": {},
   "outputs": [
    {
     "name": "stdout",
     "output_type": "stream",
     "text": [
      "{6: ['Écrire', 'phrase', 'chaque', 'chaque', 'valeur'], 3: ['une', 'qui', 'une', 'clé', 'est', 'une', 'mot', 'est', 'des'], 8: ['fonction', 'retourne', 'longueur', 'longueur'], 5: ['prend', 'liste', 'cette'], 2: ['et', 'un', 'où', 'de', 'et', 'la', 'de'], 12: ['dictionnaire'], 4: ['mots']}\n"
     ]
    }
   ],
   "source": [
    "\"\"\"\n",
    "🔹 Exercice 5 : Grouper les mots d'une phrase par longueur\n",
    "\"\"\"\n",
    "\n",
    "def grouper_par_longueur(phrase):\n",
    "    mots = phrase.split()\n",
    "    resultat = {}\n",
    "\n",
    "    for mot in mots:\n",
    "        longueur = len(mot)\n",
    "        if longueur not in resultat:\n",
    "            resultat[longueur] = [mot]\n",
    "        else:\n",
    "            resultat[longueur].append(mot)\n",
    "\n",
    "    return resultat\n",
    "\n",
    "print(grouper_par_longueur(\"Écrire une fonction qui prend une phrase et retourne un dictionnaire où chaque clé est une longueur de mot et chaque valeur est la liste des mots de cette longueur\"))\n",
    "\n"
   ]
  }
 ],
 "metadata": {
  "kernelspec": {
   "display_name": "Python 3",
   "language": "python",
   "name": "python3"
  },
  "language_info": {
   "codemirror_mode": {
    "name": "ipython",
    "version": 3
   },
   "file_extension": ".py",
   "mimetype": "text/x-python",
   "name": "python",
   "nbconvert_exporter": "python",
   "pygments_lexer": "ipython3",
   "version": "3.13.2"
  }
 },
 "nbformat": 4,
 "nbformat_minor": 5
}
