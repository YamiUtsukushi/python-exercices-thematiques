{
 "cells": [
  {
   "cell_type": "code",
   "execution_count": 1,
   "id": "c19d27df",
   "metadata": {},
   "outputs": [
    {
     "name": "stdout",
     "output_type": "stream",
     "text": [
      "2\n",
      "True\n",
      "Alice\n",
      "Carnet: Alice, Bob\n"
     ]
    }
   ],
   "source": [
    "class CarnetContacts:\n",
    "    def __init__(self):\n",
    "        self._contacts = []\n",
    "\n",
    "    def ajouter(self, nom):\n",
    "        self._contacts.append(nom)\n",
    "\n",
    "    def __len__(self):\n",
    "        return len(self._contacts)\n",
    "\n",
    "    def __getitem__(self, index):\n",
    "        return self._contacts[index]\n",
    "\n",
    "    def __contains__(self, nom):\n",
    "        return nom in self._contacts\n",
    "\n",
    "    def __str__(self):\n",
    "        return \"Carnet: \" + \", \".join(self._contacts)\n",
    "\n",
    "\n",
    "carnet = CarnetContacts()\n",
    "carnet.ajouter(\"Alice\")\n",
    "carnet.ajouter(\"Bob\")\n",
    "\n",
    "print(len(carnet))       # 2\n",
    "print(\"Alice\" in carnet) # True\n",
    "print(carnet[0])         # Alice\n",
    "print(carnet)            # Carnet: Alice, Bob\n"
   ]
  }
 ],
 "metadata": {
  "kernelspec": {
   "display_name": "Python 3",
   "language": "python",
   "name": "python3"
  },
  "language_info": {
   "codemirror_mode": {
    "name": "ipython",
    "version": 3
   },
   "file_extension": ".py",
   "mimetype": "text/x-python",
   "name": "python",
   "nbconvert_exporter": "python",
   "pygments_lexer": "ipython3",
   "version": "3.13.2"
  }
 },
 "nbformat": 4,
 "nbformat_minor": 5
}
