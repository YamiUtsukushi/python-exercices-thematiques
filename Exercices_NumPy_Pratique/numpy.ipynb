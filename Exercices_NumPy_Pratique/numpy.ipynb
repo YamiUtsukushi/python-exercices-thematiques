{
 "cells": [
  {
   "cell_type": "code",
   "execution_count": 1,
   "id": "b7c9c33d",
   "metadata": {},
   "outputs": [
    {
     "name": "stdout",
     "output_type": "stream",
     "text": [
      "Nombre de dimensions : 2\n",
      "Forme du tableau : (4, 5)\n",
      "Type des éléments : int64\n",
      "Moyenne : 19.5\n",
      "Écart-type : 5.766281297335398\n",
      "Maximum : 29\n",
      "Tableau aplati : [10 11 12 13 14 15 16 17 18 19 20 21 22 23 24 25 26 27 28 29]\n",
      "Reconverti en 5x4 :\n",
      " [[10 11 12 13]\n",
      " [14 15 16 17]\n",
      " [18 19 20 21]\n",
      " [22 23 24 25]\n",
      " [26 27 28 29]]\n"
     ]
    }
   ],
   "source": [
    "import numpy as np\n",
    "\n",
    "# 1. Créer un tableau 2D de taille 4x5 contenant des entiers de 10 à 29 inclus\n",
    "matrice = np.arange(10, 30).reshape(4, 5)\n",
    "\n",
    "# 2. Afficher le nombre de dimensions, la forme et le type des éléments\n",
    "print(\"Nombre de dimensions :\", matrice.ndim)\n",
    "print(\"Forme du tableau :\", matrice.shape)\n",
    "print(\"Type des éléments :\", matrice.dtype)\n",
    "\n",
    "# 3. Afficher la moyenne, l’écart-type et le maximum\n",
    "print(\"Moyenne :\", matrice.mean())\n",
    "print(\"Écart-type :\", matrice.std())\n",
    "print(\"Maximum :\", matrice.max())\n",
    "\n",
    "# 4. Aplatir le tableau, puis le retransformer en 5x4\n",
    "aplat = matrice.flatten()\n",
    "matrice_5x4 = aplat.reshape(5, 4)\n",
    "\n",
    "print(\"Tableau aplati :\", aplat)\n",
    "print(\"Reconverti en 5x4 :\\n\", matrice_5x4)\n"
   ]
  },
  {
   "cell_type": "code",
   "execution_count": null,
   "id": "bc7790f0",
   "metadata": {},
   "outputs": [
    {
     "name": "stdout",
     "output_type": "stream",
     "text": [
      "Somme des matrices :\n",
      " [[10 12 14 16 18]\n",
      " [20 22 24 26 28]]\n",
      "Concaténation horizontale :\n",
      " [[ 0  1  2  3  4 10 11 12 13 14]\n",
      " [ 5  6  7  8  9 15 16 17 18 19]]\n",
      "Concaténation verticale :\n",
      " [[ 0  1  2  3  4]\n",
      " [ 5  6  7  8  9]\n",
      " [10 11 12 13 14]\n",
      " [15 16 17 18 19]]\n",
      "Deuxième ligne concaténée verticalement : [5 6 7 8 9]\n"
     ]
    }
   ],
   "source": [
    "import numpy as np\n",
    "\n",
    "# 1. Générer deux tableaux 1D\n",
    "a = np.arange(0, 10)\n",
    "b = np.arange(10, 20)\n",
    "\n",
    "# 2. Transformer en matrices 2D de forme (2, 5)\n",
    "a_mat = a.reshape(2, 5)\n",
    "b_mat = b.reshape(2, 5)\n",
    "\n",
    "# 3. Calculer la somme des deux matrices\n",
    "somme = a_mat + b_mat\n",
    "print(\"Somme des matrices :\\n\", somme)\n",
    "\n",
    "# 4. Concaténation horizontale et verticale\n",
    "concat_h = np.hstack((a_mat, b_mat))\n",
    "concat_v = np.vstack((a_mat, b_mat))\n",
    "\n",
    "print(\"Concaténation horizontale :\\n\", concat_h)\n",
    "print(\"Concaténation verticale :\\n\", concat_v)\n",
    "    \n",
    "# 5. Afficher la deuxième ligne du tableau verticalement concaténé\n",
    "print(\"Deuxième ligne concaténée verticalement :\", concat_v[1])\n"
   ]
  }
 ],
 "metadata": {
  "kernelspec": {
   "display_name": "Python 3",
   "language": "python",
   "name": "python3"
  },
  "language_info": {
   "codemirror_mode": {
    "name": "ipython",
    "version": 3
   },
   "file_extension": ".py",
   "mimetype": "text/x-python",
   "name": "python",
   "nbconvert_exporter": "python",
   "pygments_lexer": "ipython3",
   "version": "3.13.2"
  }
 },
 "nbformat": 4,
 "nbformat_minor": 5
}
