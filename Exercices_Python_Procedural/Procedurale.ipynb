{
 "cells": [
  {
   "cell_type": "code",
   "execution_count": 1,
   "id": "a20aee7b",
   "metadata": {},
   "outputs": [
    {
     "name": "stdout",
     "output_type": "stream",
     "text": [
      "3\n"
     ]
    }
   ],
   "source": [
    "\"\"\"\n",
    "🔹 Exercice 1 : Compter les voyelles\n",
    "\"\"\"\n",
    "def comtper_les_voylles(texte):\n",
    "    voyelles = \"aeiouy\"\n",
    "    nb_voyelles = 0\n",
    "    for char in texte:\n",
    "        if char in voyelles:\n",
    "            nb_voyelles += 1\n",
    "    print(nb_voyelles)\n",
    "\n",
    "comtper_les_voylles(\"Bonjour\")\n"
   ]
  },
  {
   "cell_type": "code",
   "execution_count": 2,
   "id": "be62a985",
   "metadata": {},
   "outputs": [
    {
     "name": "stdout",
     "output_type": "stream",
     "text": [
      "10 est pair\n",
      "11 est impair\n",
      "12 est pair\n",
      "13 est impair\n",
      "14 est pair\n",
      "15 est impair\n",
      "16 est pair\n",
      "17 est impair\n",
      "18 est pair\n",
      "19 est impair\n",
      "20 est pair\n"
     ]
    }
   ],
   "source": [
    "\"\"\"\n",
    "🔹 Exercice 2 : Pair ou impair dans une plage\n",
    "\"\"\"\n",
    "for i in range(10,21):\n",
    "    if i % 2 == 0:\n",
    "        print(i, \"est pair\")\n",
    "    else:\n",
    "        print(i, \"est impair\")\n"
   ]
  },
  {
   "cell_type": "code",
   "execution_count": 3,
   "id": "f519c617",
   "metadata": {},
   "outputs": [
    {
     "name": "stdout",
     "output_type": "stream",
     "text": [
      "Bravo, tu as trouvé le nombre mystère !\n"
     ]
    }
   ],
   "source": [
    "\"\"\"\n",
    "🔹 Exercice 3 : Nombre mystère\n",
    "\"\"\"\n",
    "nombre = 0  # valeur de départ\n",
    "mystere = 4  # le nombre à deviner\n",
    "\n",
    "while nombre != mystere:\n",
    "    nombre = int(input(\"Devine le nombre entre 1 et 10 : \"))\n",
    "    if nombre < mystere:\n",
    "        print(\"Trop petit !\")\n",
    "    elif nombre > mystere:\n",
    "        print(\"Trop grand !\")\n",
    "\n",
    "print(\"Bravo, tu as trouvé le nombre mystère !\")\n"
   ]
  },
  {
   "cell_type": "code",
   "execution_count": 4,
   "id": "5e396edd",
   "metadata": {},
   "outputs": [
    {
     "name": "stdout",
     "output_type": "stream",
     "text": [
      "9\n"
     ]
    }
   ],
   "source": [
    "\"\"\"\n",
    "🔹 Exercice 4 : Compteur de majuscules\n",
    "\"\"\"\n",
    "\n",
    "def compter_majuscules(maj):\n",
    "    compteur = 0\n",
    "    for lettre in maj:\n",
    "        if lettre.isupper():\n",
    "            compteur += 1\n",
    "    return compteur\n",
    "\n",
    "print(compter_majuscules(\"Bonjour Tous LE MONDE\"))\n"
   ]
  },
  {
   "cell_type": "code",
   "execution_count": 6,
   "id": "c94de60b",
   "metadata": {},
   "outputs": [
    {
     "name": "stdout",
     "output_type": "stream",
     "text": [
      "⭐⭐⭐⭐\n",
      "⭐⭐⭐⭐\n",
      "⭐⭐⭐⭐\n",
      "⭐⭐⭐⭐\n"
     ]
    }
   ],
   "source": [
    "\"\"\"\n",
    "🔹 Exercice 5 :  Générateur de carré d'étoiles\n",
    "\"\"\"\n",
    "n = int(input(\"Entrez un nombre : \"))\n",
    "for i in range(n):\n",
    "    for j in range(n):\n",
    "        print(\"⭐\", end=\"\")\n",
    "    print()\n"
   ]
  },
  {
   "cell_type": "code",
   "execution_count": 7,
   "id": "5b2cd4bd",
   "metadata": {},
   "outputs": [
    {
     "name": "stdout",
     "output_type": "stream",
     "text": [
      "False\n"
     ]
    }
   ],
   "source": [
    "\"\"\"\n",
    "🔹 Exercice 6 : Vérificateur d'âge\n",
    "\"\"\"\n",
    "def verif_age(age):\n",
    "    if age >= 18:\n",
    "        return True\n",
    "    else:\n",
    "        return False\n",
    "\n",
    "mon_age = int(input(\"Entrez un âge : \"))\n",
    "print(verif_age(mon_age))\n"
   ]
  },
  {
   "cell_type": "code",
   "execution_count": 8,
   "id": "d083f388",
   "metadata": {},
   "outputs": [
    {
     "name": "stdout",
     "output_type": "stream",
     "text": [
      "Moyenne générale : 14.0\n",
      "soso a eu 18.0/20\n"
     ]
    }
   ],
   "source": [
    "\"\"\"\n",
    "🔹 Exercice 7 : Carnet de notes automatisé\n",
    "\"\"\"\n",
    "\n",
    "nb_etudiant = int(input(\"Entrez le nombre d'élèves : \"))\n",
    "eleves = {}\n",
    "\n",
    "for i in range(nb_etudiant):\n",
    "    nom = input(\"Entrez le nom de l'élève : \")\n",
    "    note = float(input(\"Entrez la note de l'élève : \"))\n",
    "    eleves[nom] = note\n",
    "\n",
    "somme = 0\n",
    "for note in eleves.values():\n",
    "    somme += note\n",
    "\n",
    "moyenne = somme / nb_etudiant\n",
    "print(\"Moyenne générale :\", moyenne)\n",
    "\n",
    "for eleve_nom, eleve_note in eleves.items():\n",
    "    if eleve_note > 10:\n",
    "        print(f\"{eleve_nom} a eu {eleve_note}/20\")\n"
   ]
  },
  {
   "cell_type": "code",
   "execution_count": 9,
   "id": "0e765e63",
   "metadata": {},
   "outputs": [
    {
     "name": "stdout",
     "output_type": "stream",
     "text": [
      "Mot de passe valide !\n"
     ]
    }
   ],
   "source": [
    "\"\"\"\n",
    "🔹 Exercice 8 : Gestionnaire de mots de passe\n",
    "\"\"\"\n",
    "while True:\n",
    "    mot_de_passe = input(\"Entrez un mot de passe : \")\n",
    "\n",
    "    # Vérifie les conditions\n",
    "    long_ok = len(mot_de_passe) >= 8\n",
    "    maj_ok = any(c.isupper() for c in mot_de_passe)\n",
    "    chiffre_ok = any(c.isdigit() for c in mot_de_passe)\n",
    "\n",
    "    if long_ok and maj_ok and chiffre_ok:\n",
    "        print(\"Mot de passe valide !\")\n",
    "        break\n",
    "    else:\n",
    "        print(\"Mot de passe invalide. Il doit faire au moins 8 caractères, contenir une majuscule et un chiffre.\")\n"
   ]
  }
 ],
 "metadata": {
  "kernelspec": {
   "display_name": "Python 3",
   "language": "python",
   "name": "python3"
  },
  "language_info": {
   "codemirror_mode": {
    "name": "ipython",
    "version": 3
   },
   "file_extension": ".py",
   "mimetype": "text/x-python",
   "name": "python",
   "nbconvert_exporter": "python",
   "pygments_lexer": "ipython3",
   "version": "3.13.2"
  }
 },
 "nbformat": 4,
 "nbformat_minor": 5
}
