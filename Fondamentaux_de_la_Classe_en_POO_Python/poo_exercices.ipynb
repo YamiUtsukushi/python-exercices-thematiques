{
 "cells": [
  {
   "cell_type": "code",
   "execution_count": null,
   "id": "834faf9b",
   "metadata": {},
   "outputs": [
    {
     "name": "stdout",
     "output_type": "stream",
     "text": [
      "Aire : 12\n",
      "Périmètre : 14\n"
     ]
    }
   ],
   "source": [
    "# Exercice 1 – Création simple de classe\n",
    "class Rectangle:\n",
    "    def __init__(self, longueur, largeur):\n",
    "        self.longueur = longueur\n",
    "        self.largeur = largeur\n",
    "\n",
    "    def aire(self):\n",
    "        return self.longueur * self.largeur\n",
    "\n",
    "    def perimetre(self):\n",
    "        return 2 * (self.longueur + self.largeur)\n",
    "    \n",
    "# Test pour voir si tout est OK\n",
    "r = Rectangle(4, 3)\n",
    "\n",
    "print(\"Aire :\", r.aire())         # Doit afficher : 12\n",
    "print(\"Périmètre :\", r.perimetre())  # Doit afficher : 14\n"
   ]
  },
  {
   "cell_type": "code",
   "execution_count": null,
   "id": "7b4b86ab",
   "metadata": {},
   "outputs": [
    {
     "name": "stdout",
     "output_type": "stream",
     "text": [
      "Nombre de rectangles créés : 3\n"
     ]
    }
   ],
   "source": [
    "# Exercice 2 – Utilisation d’attributs de classe\n",
    "class Rectangle:\n",
    "    nb_rectangles_crees = 0\n",
    "\n",
    "    def __init__(self, longueur, largeur):\n",
    "        self.longueur = longueur\n",
    "        self.largeur = largeur\n",
    "        Rectangle.nb_rectangles_crees += 1\n",
    "\n",
    "    def aire(self):\n",
    "        return self.longueur * self.largeur\n",
    "\n",
    "    def perimetre(self):\n",
    "        return 2 * (self.longueur + self.largeur)\n",
    "    \n",
    "# Test pour voir si tout est OK\n",
    "r1 = Rectangle(5, 2)\n",
    "r2 = Rectangle(7, 3)\n",
    "r3 = Rectangle(10, 4)\n",
    "\n",
    "print(\"Nombre de rectangles créés :\", Rectangle.nb_rectangles_crees)  # Doit afficher : 3\n",
    "\n"
   ]
  },
  {
   "cell_type": "code",
   "execution_count": null,
   "id": "321e0951",
   "metadata": {},
   "outputs": [
    {
     "name": "stdout",
     "output_type": "stream",
     "text": [
      "Marteau - HandTool\n",
      "Tournevis - HandTool\n"
     ]
    }
   ],
   "source": [
    "# Exercice 3 – Attributs d’instance vs de classe\n",
    "class Tool:\n",
    "    category = 'HandTool'\n",
    "\n",
    "    def __init__(self, name):\n",
    "        self.name = name\n",
    "\n",
    "outil1 = Tool(\"Marteau\")\n",
    "outil2 = Tool(\"Tournevis\")\n",
    "\n",
    "# Test pour voir si tout est OK\n",
    "print(outil1.name, \"-\", outil1.category) # Doit afficher : Marteau - HandTool\n",
    "print(outil2.name, \"-\", outil2.category) # Doit afficher : Tournevis - HandTool\n"
   ]
  },
  {
   "cell_type": "code",
   "execution_count": null,
   "id": "d1cf70d0",
   "metadata": {},
   "outputs": [
    {
     "name": "stdout",
     "output_type": "stream",
     "text": [
      "1984 écrit par George Orwell, contient 328 pages.\n"
     ]
    }
   ],
   "source": [
    "# Exercice 4 – Méthodes d’instance\n",
    "class Livre:\n",
    "    def __init__(self, titre, auteur, nb_pages):\n",
    "        self.titre = titre\n",
    "        self.auteur = auteur\n",
    "        self.nb_pages = nb_pages\n",
    "\n",
    "    def resume(self):\n",
    "        return f\"{self.titre} écrit par {self.auteur}, contient {self.nb_pages} pages.\"\n",
    "\n",
    "# Test pour voir si tout est OK\n",
    "livre1 = Livre(\"1984\", \"George Orwell\", 328)\n",
    "print(livre1.resume()) # Doit Afficher \"1984 écrit par George Orwell, contient 328 pages.\"\n"
   ]
  },
  {
   "cell_type": "code",
   "execution_count": null,
   "id": "9db71e80",
   "metadata": {},
   "outputs": [
    {
     "name": "stdout",
     "output_type": "stream",
     "text": [
      "Nombre total de rectangles : 2\n"
     ]
    }
   ],
   "source": [
    "# Exercice 5 – Méthode de classe\n",
    "class Rectangle:\n",
    "    nb_rectangles_crees = 0\n",
    "\n",
    "    def __init__(self, longueur, largeur):\n",
    "        self.longueur = longueur\n",
    "        self.largeur = largeur\n",
    "        Rectangle.nb_rectangles_crees += 1\n",
    "\n",
    "    def aire(self):\n",
    "        return self.longueur * self.largeur\n",
    "\n",
    "    def perimetre(self):\n",
    "        return 2 * (self.longueur + self.largeur)\n",
    "\n",
    "    @classmethod\n",
    "    def get_nbr_rectangles_crees(cls):\n",
    "        return cls.nb_rectangles_crees\n",
    "\n",
    "# Test pour voir si tout est OK  \n",
    "r1 = Rectangle(4, 5)\n",
    "r2 = Rectangle(2, 8)\n",
    "\n",
    "print(\"Nombre total de rectangles :\", Rectangle.get_nbr_rectangles_crees()) # Doit Afficher \"Nombre total de rectangles : 2\"\n"
   ]
  },
  {
   "cell_type": "code",
   "execution_count": 11,
   "id": "2b520e32",
   "metadata": {},
   "outputs": [
    {
     "name": "stdout",
     "output_type": "stream",
     "text": [
      "Aire r1 : 20\n",
      "Périmètre r1 : 18\n",
      "Aire r2 : 21\n",
      "Périmètre r2 : 20\n",
      "Nombre total de rectangles : 4\n"
     ]
    }
   ],
   "source": [
    "# Exercice 7 – Instanciation et utilisation\n",
    "r1 = Rectangle(4, 5)\n",
    "r2 = Rectangle(3, 7)\n",
    "\n",
    "print(\"Aire r1 :\", r1.aire())\n",
    "print(\"Périmètre r1 :\", r1.perimetre())\n",
    "print(\"Aire r2 :\", r2.aire())\n",
    "print(\"Périmètre r2 :\", r2.perimetre())\n",
    "print(\"Nombre total de rectangles :\", Rectangle.get_nbr_rectangles_crees())"
   ]
  },
  {
   "cell_type": "code",
   "execution_count": 16,
   "id": "322966bb",
   "metadata": {},
   "outputs": [
    {
     "name": "stdout",
     "output_type": "stream",
     "text": [
      "Longueur : 5\n",
      "Largeur : 3\n",
      "Nouvelle longueur : 5\n",
      "Nouvelle largeur : 7\n"
     ]
    }
   ],
   "source": [
    "# Exercice 8 – Encapsulation des données\n",
    "class Rectangle:\n",
    "    def __init__(self, longueur, largeur):\n",
    "        self.__longueur = longueur\n",
    "        self.__largeur = largeur\n",
    "\n",
    "    def get_longueur(self):\n",
    "        return self.__longueur\n",
    "\n",
    "    def get_largeur(self):\n",
    "        return self.__largeur\n",
    "\n",
    "    def set_longueur(self, val):\n",
    "        if val >= 0:\n",
    "            self.__longueur = val\n",
    "\n",
    "    def set_largeur(self, val):\n",
    "        if val >= 0:\n",
    "            self.__largeur = val\n",
    "\n",
    "# Test pour voir si tout est OK\n",
    "r = Rectangle(5, 3)\n",
    "\n",
    "print(\"Longueur :\", r.get_longueur())  # Doit afficher 5\n",
    "print(\"Largeur :\", r.get_largeur())    # Doit afficher 3\n",
    "\n",
    "r.set_longueur(-10)  # Ne doit pas changer la valeur\n",
    "r.set_largeur(7)     # Devrait fonctionner\n",
    "\n",
    "print(\"Nouvelle longueur :\", r.get_longueur())  # Toujours 5\n",
    "print(\"Nouvelle largeur :\", r.get_largeur())    # Doit afficher 7\n"
   ]
  },
  {
   "cell_type": "code",
   "execution_count": null,
   "id": "85dfa0ef",
   "metadata": {},
   "outputs": [
    {
     "name": "stdout",
     "output_type": "stream",
     "text": [
      "Appel de la méthode...\n",
      "Méthode terminée.\n",
      "Aire : 24\n"
     ]
    }
   ],
   "source": [
    "# Exercice 9 – Utilisation de décorateurs\n",
    "def log_appel(fonction):\n",
    "    def wrapper(*args, **kwargs):\n",
    "        print(\"Appel de la méthode...\")\n",
    "        resultat = fonction(*args, **kwargs)\n",
    "        print(\"Méthode terminée.\")\n",
    "        return resultat\n",
    "    return wrapper\n",
    "\n",
    "class Rectangle:\n",
    "    def __init__(self, longueur, largeur):\n",
    "        self.longueur = longueur\n",
    "        self.largeur = largeur\n",
    "\n",
    "    @log_appel\n",
    "    def aire(self):\n",
    "        return self.longueur * self.largeur\n",
    "    \n",
    "# Test pour voir si tout est OK\n",
    "r = Rectangle(4, 6)\n",
    "print(\"Aire :\", r.aire())\n"
   ]
  },
  {
   "cell_type": "code",
   "execution_count": 18,
   "id": "4fa46e2e",
   "metadata": {},
   "outputs": [
    {
     "name": "stdout",
     "output_type": "stream",
     "text": [
      "Titre : Le Petit Prince, Auteur : Antoine de Saint-Exupéry, Pages : 96\n",
      "Titre : Inconnu, Auteur : Quelqu’un, Pages : 100\n"
     ]
    }
   ],
   "source": [
    "# Exercice 10 – Classe avec attribut optionnel\n",
    "class Livre:\n",
    "    def __init__(self, titre, auteur, nb_pages=100):\n",
    "        self.titre = titre\n",
    "        self.auteur = auteur\n",
    "        self.nb_pages = nb_pages\n",
    "\n",
    "    def afficher(self):\n",
    "        print(f\"Titre : {self.titre}, Auteur : {self.auteur}, Pages : {self.nb_pages}\")\n",
    "\n",
    "# Test pour voir si tout est OK\n",
    "livre1 = Livre(\"Le Petit Prince\", \"Antoine de Saint-Exupéry\", 96)\n",
    "livre2 = Livre(\"Inconnu\", \"Quelqu’un\")\n",
    "\n",
    "livre1.afficher()  # Affiche : 96 pages\n",
    "livre2.afficher()  # Affiche : 100 pages\n",
    "\n"
   ]
  }
 ],
 "metadata": {
  "kernelspec": {
   "display_name": "Python 3",
   "language": "python",
   "name": "python3"
  },
  "language_info": {
   "codemirror_mode": {
    "name": "ipython",
    "version": 3
   },
   "file_extension": ".py",
   "mimetype": "text/x-python",
   "name": "python",
   "nbconvert_exporter": "python",
   "pygments_lexer": "ipython3",
   "version": "3.13.2"
  }
 },
 "nbformat": 4,
 "nbformat_minor": 5
}
