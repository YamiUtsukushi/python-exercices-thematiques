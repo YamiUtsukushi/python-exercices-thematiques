{
 "cells": [
  {
   "cell_type": "code",
   "execution_count": 1,
   "id": "3323d211",
   "metadata": {},
   "outputs": [
    {
     "name": "stdout",
     "output_type": "stream",
     "text": [
      "Scan en cours...\n",
      "Impression en cours...\n",
      "Scan en cours...\n",
      "Impression en cours...\n"
     ]
    }
   ],
   "source": [
    "# Exercice 1 –  Appareil Multifonction\n",
    "class Scanner:\n",
    "    def scanner(self):\n",
    "        print(\"Scan en cours...\")\n",
    "\n",
    "class Imprimante:\n",
    "    def imprimer(self):\n",
    "        print(\"Impression en cours...\")\n",
    "\n",
    "class Photocopieuse(Scanner, Imprimante):\n",
    "    def photocopier(self):\n",
    "        self.scanner()\n",
    "        self.imprimer()\n",
    "\n",
    "\n",
    "appareil = Photocopieuse()\n",
    "\n",
    "appareil.scanner()       # Scan en cours...\n",
    "appareil.imprimer()      # Impression en cours...\n",
    "appareil.photocopier()   # Scan en cours... + Impression en cours...\n"
   ]
  },
  {
   "cell_type": "code",
   "execution_count": 2,
   "id": "0e86617f",
   "metadata": {},
   "outputs": [
    {
     "name": "stdout",
     "output_type": "stream",
     "text": [
      "Préparation du repas.\n",
      "Analyse des ingrédients.\n",
      "Préparation du repas.\n",
      "Analyse des ingrédients.\n"
     ]
    }
   ],
   "source": [
    "# Exercice 2 –  Robot Cuisinier Intelligent\n",
    "class Cuisinier:\n",
    "    def preparer(self):\n",
    "        print(\"Préparation du repas.\")\n",
    "\n",
    "class IA:\n",
    "    def analyser(self):\n",
    "        print(\"Analyse des ingrédients.\")\n",
    "\n",
    "class RobotCuisinier(Cuisinier, IA):\n",
    "    def executer(self):\n",
    "        self.preparer()\n",
    "        self.analyser()\n",
    "\n",
    "robot = RobotCuisinier()\n",
    "\n",
    "robot.preparer()    # Préparation du repas...\n",
    "robot.analyser()    # Analyse des ingrédients.\n",
    "robot.executer()    # Préparation du repas... + Analyse des ingrédients."
   ]
  },
  {
   "cell_type": "code",
   "execution_count": null,
   "id": "5b569af4",
   "metadata": {},
   "outputs": [
    {
     "name": "stdout",
     "output_type": "stream",
     "text": [
      "Utilisateur Soso est connecté.\n",
      "Utilisateur Soso a effectué une action.\n",
      "Soso gère le système.\n"
     ]
    }
   ],
   "source": [
    "# Exercice 3 –  Gestion de rôles multiples (Mixins)\n",
    "class Utilisateur:\n",
    "    def __init__(self, nom):\n",
    "        self.nom = nom\n",
    "\n",
    "class Loggable:\n",
    "    def log(self):\n",
    "        print(f\"Utilisateur {self.nom} a effectué une action.\")\n",
    "\n",
    "class Authentifiable:\n",
    "    def authentifier(self):\n",
    "        print(f\"Utilisateur {self.nom} est connecté.\")\n",
    "\n",
    "class Admin(Utilisateur, Loggable, Authentifiable):\n",
    "    def gérer(self):\n",
    "        print(f\"{self.nom} gère le système.\")\n",
    "\n",
    "admin1 = Admin(\"Soso\")\n",
    "\n",
    "admin1.authentifier()   # → Utilisateur Soso est connecté.\n",
    "admin1.log()            # → Utilisateur Soso a effectué une action.\n",
    "admin1.gérer()          # → Soso gère le système.\n"
   ]
  }
 ],
 "metadata": {
  "kernelspec": {
   "display_name": "Python 3",
   "language": "python",
   "name": "python3"
  },
  "language_info": {
   "codemirror_mode": {
    "name": "ipython",
    "version": 3
   },
   "file_extension": ".py",
   "mimetype": "text/x-python",
   "name": "python",
   "nbconvert_exporter": "python",
   "pygments_lexer": "ipython3",
   "version": "3.13.2"
  }
 },
 "nbformat": 4,
 "nbformat_minor": 5
}
